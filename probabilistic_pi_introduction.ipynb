{
 "cells": [
  {
   "cell_type": "markdown",
   "metadata": {},
   "source": [
    "# Monte Carlo Integration"
   ]
  },
  {
   "cell_type": "markdown",
   "metadata": {},
   "source": [
    "This program calculates the ratio $\\pi/4$ using Monte Carlo Integration method for different number of points. Roughly, Monte Carlo Integration provides a method to calculate the following:\n",
    "\n",
    "\\begin{equation}\n",
    "\\int f dV\\approx V<f>\\pm V\\sqrt{\\frac{<f^2>-<f>^2}{N}}\n",
    "\\end{equation}\n",
    "\n",
    "As $N\\rightarrow \\infty$, this becomes exact and the error goes to $0$.\n",
    "\n",
    "In this application, the volume is restricted to a 2D surface; therefore, it is an area that is to be approximated with $f(x)=1, \\forall x$. In the limit $N\\rightarrow \\infty$, the integral $\\int 1 dA = A <1> = A$, that is the area of the region.\n",
    "    \n",
    "Now, let us consider the following figure:"
   ]
  },
  {
   "cell_type": "code",
   "execution_count": 1,
   "metadata": {},
   "outputs": [
    {
     "data": {
      "image/png": "[encoded data removed]",
      "text/plain": [
       "<Figure size 288x288 with 1 Axes>"
      ]
     },
     "metadata": {
      "needs_background": "light"
     },
     "output_type": "display_data"
    }
   ],
   "source": [
    "import matplotlib.pyplot as plt\n",
    "\n",
    "fig, ax = plt.subplots(figsize=(4,4))\n",
    "circle = plt.Circle((0.5,0.5), 0.5, color = 'g', fill = False)\n",
    "ax.add_patch(circle)\n",
    "plt.show()"
   ]
  },
  {
   "cell_type": "markdown",
   "metadata": {},
   "source": [
    "The area of the circle is $\\pi(0.5)^2=\\pi/4$\n",
    "\n",
    "The area of the square is $1\\times1=1$\n",
    "\n",
    "Therefore, the ratio of the areas gives $\\pi/4$, which is an exact analytical result.\n",
    "\n",
    "In my program, I use Monte Carlo Integration to evaluate this integral, which is not exact. I repeat this for different N values and compare these to find the best N value that gives the most accurate $\\pi$ value. Since I use random points to apply Monte Carlo Integration over the regions, the value of the $\\pi$ found is to be probabilistic. The name of the repository comes from this probabilistic nature of Monte Carlo Integration and the value of $\\pi$ will be dependent on this. Note that for large N, it is expected to get better approximations. On the other hand, large number of points consumes more memory and optimization is an aim. Therefore, the final aim of this project will be to determine the value of N that gives the exact result of $\\pi$ up to $10^{-16}$ decimals."
   ]
  },
  {
   "cell_type": "code",
   "execution_count": null,
   "metadata": {},
   "outputs": [],
   "source": []
  }
 ],
 "metadata": {
  "kernelspec": {
   "display_name": "Python 3",
   "language": "python",
   "name": "python3"
  },
  "language_info": {
   "codemirror_mode": {
    "name": "ipython",
    "version": 3
   },
   "file_extension": ".py",
   "mimetype": "text/x-python",
   "name": "python",
   "nbconvert_exporter": "python",
   "pygments_lexer": "ipython3",
   "version": "3.8.6"
  }
 },
 "nbformat": 4,
 "nbformat_minor": 4
}
